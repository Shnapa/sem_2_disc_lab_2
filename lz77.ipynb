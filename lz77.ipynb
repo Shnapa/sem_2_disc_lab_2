{
 "cells": [
  {
   "cell_type": "markdown",
   "metadata": {},
   "source": [
    "LZ77 ALGORITHM\n"
   ]
  },
  {
   "cell_type": "code",
   "execution_count": 7,
   "metadata": {},
   "outputs": [],
   "source": [
    "\"\"\" Lz77 algorithm module \"\"\"\n",
    "import matplotlib.pyplot as plt\n",
    "import time\n",
    "\n",
    "\n",
    "class LZ77:\n",
    "    def __init__(self, window_size: int):\n",
    "        self.window_size = window_size\n",
    "\n",
    "    def encode(self, text):\n",
    "        \"\"\"\n",
    "        Encoding\n",
    "        \"\"\"\n",
    "        compressed = []\n",
    "        index = 0\n",
    "\n",
    "        while index < len(text):\n",
    "            best_offset = -1\n",
    "            best_length = -1\n",
    "            best_match = ''\n",
    "\n",
    "            # Search for the longest match in the sliding window\n",
    "            for length in range(1, min(len(text) - index, self.window_size)):\n",
    "                substring = text[index:index + length]\n",
    "                offset = text.rfind(substring, max(0, index - self.window_size), index)\n",
    "\n",
    "                if offset != -1 and length > best_length:\n",
    "                    best_offset = index - offset\n",
    "                    best_length = length\n",
    "                    best_match = substring\n",
    "\n",
    "            if best_match:\n",
    "                # Add the (offset, length, next_character) tuple to the compressed data\n",
    "                compressed.append((best_offset, best_length, text[index + best_length]))\n",
    "                index += best_length + 1\n",
    "            else:\n",
    "                # No match found, add a zero-offset tuple\n",
    "                compressed.append((0, 0, text[index]))\n",
    "                index += 1\n",
    "\n",
    "        return compressed\n",
    "\n",
    "    def decode(self, encoded_list: list) -> str:\n",
    "        \"\"\"\n",
    "        Decoding\n",
    "        \"\"\"\n",
    "        result = \"\"\n",
    "        for item in encoded_list:\n",
    "            offset, length, next_char = item\n",
    "            result += result[-offset:][:length] + next_char\n",
    "        return result\n"
   ]
  },
  {
   "cell_type": "markdown",
   "metadata": {},
   "source": [
    "Метод encode сканує текст та створює стиснену версію, використовуючи трійки (зсув, довжина, наступний символ). Для кожної позиції у тексті, алгоритм шукає найдовший збіг вікном заданого розміру, позначає його як трійку і зсувається далі. Якщо збіг не знайдено, то додається трійка з нульовим зсувом.\n",
    "\n",
    "Метод decode використовує закодовані трійки для відновлення оригінального тексту. Для кожної трійки він використовує зсув та довжину для вибору підстрічки з попередніх символів та додає наступний символ.\n",
    "\n",
    "Н амою думку, цей алгоритм ефективно стискує повторювані фрагменти в тексті, зменшуючи загальний об'єм інформації. Однак для деяких видів даних та текстів інші алгоритми стиснення можуть бути більш ефективними."
   ]
  },
  {
   "cell_type": "code",
   "execution_count": 8,
   "metadata": {},
   "outputs": [],
   "source": [
    "def measure_execution_time(func, *args):\n",
    "    start_time = time.time()\n",
    "    result = func(*args)\n",
    "    end_time = time.time()\n",
    "    execution_time = end_time - start_time\n",
    "    return result, execution_time\n",
    "\n",
    "def visualize_execution_time(small_file_time, big_file_time):\n",
    "    plt.bar(['Small File', 'Big File'], [small_file_time, big_file_time], color=['blue', 'orange'])\n",
    "    plt.ylabel('Execution Time (seconds)')\n",
    "    plt.title('LZ77 Algorithm Execution Time Comparison')\n",
    "    plt.show()"
   ]
  },
  {
   "cell_type": "markdown",
   "metadata": {},
   "source": [
    "Тестування алгоритму на менших даних"
   ]
  },
  {
   "cell_type": "code",
   "execution_count": 9,
   "metadata": {},
   "outputs": [
    {
     "name": "stdout",
     "output_type": "stream",
     "text": [
      "Compressed List: [(0, 0, 'T'), (0, 0, 'h'), (0, 0, 'e'), (0, 0, ' '), (0, 0, 'q'), (0, 0, 'u'), (0, 0, 'i'), (0, 0, 'c'), (0, 0, 'k'), (0, 0, ' '), (0, 0, 'b'), (0, 0, 'r'), (0, 0, 'o'), (0, 0, 'w'), (0, 0, 'n'), (0, 0, ' '), (0, 0, 'f'), (5, 1, 'x'), (4, 1, 'j'), (0, 0, 'u'), (0, 0, 'm'), (0, 0, 'p'), (0, 0, 's'), (0, 0, ' '), (0, 0, 'o'), (0, 0, 'v'), (0, 0, 'e'), (0, 0, 'r'), (5, 1, 't'), (0, 0, 'h'), (5, 1, ' '), (0, 0, 'l'), (0, 0, 'a'), (0, 0, 'z'), (0, 0, 'y'), (5, 1, 'd'), (0, 0, 'o'), (0, 0, 'g'), (0, 0, '.'), (5, 1, 'T'), (0, 0, 'h'), (0, 0, 'e'), (4, 1, 'q'), (0, 0, 'u'), (0, 0, 'i'), (0, 0, 'c'), (0, 0, 'k'), (0, 0, ' '), (0, 0, 'b'), (0, 0, 'r'), (0, 0, 'o'), (0, 0, 'w'), (0, 0, 'n'), (0, 0, ' '), (0, 0, 'd'), (5, 1, 'g'), (4, 1, 'j'), (0, 0, 'u'), (0, 0, 'm'), (0, 0, 'p'), (0, 0, 's'), (0, 0, ' '), (0, 0, 'o'), (0, 0, 'v'), (0, 0, 'e'), (0, 0, 'r'), (5, 1, 't'), (0, 0, 'h'), (5, 1, ' '), (0, 0, 'l'), (0, 0, 'a'), (0, 0, 'z'), (0, 0, 'y'), (5, 1, 'f'), (0, 0, 'o'), (0, 0, 'x'), (0, 0, '.')]\n",
      "Decoded Text: The quick brown fox jumps over the lazy dog. The quick brown dog jumps over the lazy fox.\n",
      "Test Passed: Original and Decoded texts match.\n"
     ]
    }
   ],
   "source": [
    "window_size = 5\n",
    "lz77 = LZ77(window_size)\n",
    "\n",
    "original_text = 'The quick brown fox jumps over the lazy dog. The quick brown dog jumps over the lazy fox.'\n",
    "\n",
    "compressed_list = lz77.encode(original_text)\n",
    "\n",
    "print(f\"Compressed List: {compressed_list}\")\n",
    "\n",
    "decoded_text = lz77.decode(compressed_list)\n",
    "\n",
    "print(f\"Decoded Text: {decoded_text}\")\n",
    "\n",
    "if original_text == decoded_text:\n",
    "    print(\"Test Passed: Original and Decoded texts match.\")\n",
    "else:\n",
    "    print(\"Test Failed: Original and Decoded texts do not match.\")"
   ]
  },
  {
   "cell_type": "markdown",
   "metadata": {},
   "source": [
    "Оцінка ступеня стиснення відносно розміру вхідних даних (у відсотках)"
   ]
  },
  {
   "cell_type": "code",
   "execution_count": 10,
   "metadata": {},
   "outputs": [
    {
     "name": "stdout",
     "output_type": "stream",
     "text": [
      "Original size: 23 bytes\n",
      "Compressed size: 19 bytes\n",
      "Compression ratio: 82.61%\n"
     ]
    }
   ],
   "source": [
    "def calculate_compression_ratio(original_size, compressed_size):\n",
    "    compression_ratio = (compressed_size / original_size) * 100\n",
    "    return compression_ratio\n",
    "\n",
    "original_text = \"Your original text here\"\n",
    "window_size = 5  # Your window size\n",
    "lz77_encoder = LZ77(window_size)\n",
    "\n",
    "# Encode the original text\n",
    "encoded_data = lz77_encoder.encode(original_text)\n",
    "\n",
    "# Get original and compressed sizes\n",
    "original_size = len(original_text)\n",
    "compressed_size = len(encoded_data)\n",
    "\n",
    "# Print sizes\n",
    "print(f\"Original size: {original_size} bytes\")\n",
    "print(f\"Compressed size: {compressed_size} bytes\")\n",
    "\n",
    "# Estimate compression ratio\n",
    "compression_ratio = calculate_compression_ratio(original_size, compressed_size)\n",
    "print(f\"Compression ratio: {compression_ratio:.2f}%\")"
   ]
  },
  {
   "cell_type": "markdown",
   "metadata": {},
   "source": [
    "Тестування алгоритму на більших даних\n"
   ]
  },
  {
   "cell_type": "code",
   "execution_count": 11,
   "metadata": {},
   "outputs": [
    {
     "name": "stdout",
     "output_type": "stream",
     "text": [
      "Compressed List: [(0, 0, 'b'), (0, 0, 'w'), (0, 0, 'f'), (0, 0, 'c'), (2, 1, 'w'), (0, 0, 'g'), (3, 1, 'u'), (0, 0, 'y'), (0, 0, 'e'), (0, 0, 'q'), (0, 0, 'g'), (0, 0, 'f'), (0, 0, ' '), (1, 1, 'f'), (5, 1, 'q'), (0, 0, 'u'), (0, 0, 'e'), (0, 0, 'r'), (0, 0, 'f'), (0, 0, 'b'), (0, 0, 'c'), (0, 0, 'g'), (4, 1, 'u'), (0, 0, 'q'), (0, 0, ' '), (2, 1, 'u'), (0, 0, 'e'), (0, 0, 'r'), (0, 0, 'f'), (0, 0, 'c'), (0, 0, 'b'), (0, 0, 'n'), (0, 0, 'd'), (0, 0, 'k'), (0, 0, 'i'), (0, 0, 'w'), (0, 0, 'e'), (3, 1, 'g'), (0, 0, 'u'), (0, 0, 'p'), (0, 0, 'o'), (0, 0, 'w'), (0, 0, 'f'), (0, 0, 'h'), (0, 0, ' '), (0, 0, 'l'), (4, 1, 'v'), (0, 0, 'c'), (0, 0, 'u'), (0, 0, 'y'), (0, 0, 'a'), (0, 0, 'g'), (0, 0, 'w'), (0, 0, 'n'), (0, 0, ' '), (4, 1, 'y'), (0, 0, 't'), (4, 1, 'w'), (2, 1, 's'), (0, 0, 'e'), (0, 0, 'g'), (0, 0, 'u'), (0, 0, 'v'), (0, 0, 'h'), (0, 0, 'a'), (0, 0, 'i'), (0, 0, 'f'), (0, 0, 'j'), (0, 0, 's'), (0, 0, 'v'), (0, 0, 'b'), (0, 0, ' '), (3, 1, 'j'), (0, 0, 'a'), (0, 0, 'z'), (5, 1, 'k'), (5, 2, 'f'), (0, 0, 'b'), (0, 0, ' '), (0, 0, 'e'), (0, 0, 'r'), (1, 1, 'b'), (0, 0, 'g'), (0, 0, 'c'), (0, 0, ' '), (0, 0, 'q'), (0, 0, 'k'), (0, 0, 'w'), (0, 0, 'o'), (0, 0, 'a'), (0, 0, 's'), (0, 0, 'p'), (4, 1, 'h'), (0, 0, ' '), (0, 0, 'j'), (0, 0, 'b'), (0, 0, 'd'), (0, 0, 'o'), (0, 0, 'u'), (3, 1, 'f'), (0, 0, '8'), (0, 0, 'y'), (0, 0, ' '), (4, 1, 'i'), (0, 0, 's'), (3, 1, 'g'), (0, 0, 'q'), (0, 0, 'h'), (0, 0, 'u'), (0, 0, 'd'), (0, 0, 'f'), (0, 0, 'c'), (0, 0, ' '), (0, 0, 'j'), (4, 1, 'e'), (1, 1, 'u'), (0, 0, 'w'), (0, 0, 'j'), (0, 0, 'f'), (3, 1, 'i'), (0, 0, 'e'), (4, 1, ' '), (0, 0, 't'), (2, 1, 'd'), (0, 0, 'e'), (0, 0, 'h'), (4, 1, 'o'), (0, 0, 'w'), (4, 1, 'v'), (5, 1, 'q'), (0, 0, 'c'), (3, 2, 'g'), (0, 0, 't'), (0, 0, 'y'), (0, 0, 'f'), (3, 1, 'r'), (0, 0, ' '), (0, 0, 'k'), (0, 0, 's'), (0, 0, 'n'), (0, 0, 't'), (0, 0, 'r'), (0, 0, 'p'), (0, 0, 'k'), (5, 1, 'b'), (0, 0, ' '), (0, 0, 'a'), (0, 0, 'w'), (0, 0, 's'), (0, 0, 'd'), (0, 0, 'f'), (0, 0, ' '), (3, 1, 'd'), (0, 0, 'x'), (0, 0, 'c'), (0, 0, 'f'), (0, 0, 'v'), (0, 0, 'g'), (0, 0, 'b'), (0, 0, ' '), (0, 0, 'h'), (4, 1, 'v'), (0, 0, 'f'), (1, 1, 'g'), (0, 0, 'u'), (0, 0, 'l'), (0, 0, ' '), (5, 1, 'v'), (0, 0, 'b'), (0, 0, 'n'), (0, 0, 'm'), (5, 2, ' '), (0, 0, 'w'), (0, 0, 'e'), (0, 0, 'r'), (0, 0, 't'), (0, 0, 'y'), (0, 0, 'u'), (0, 0, 'i'), (0, 0, 'k'), (0, 0, ' '), (0, 0, 'e'), (0, 0, 'r'), (0, 0, 't'), (0, 0, 'y'), (0, 0, 'u'), (0, 0, 'i'), (0, 0, 'o'), (0, 0, 'v'), (0, 0, 'd'), (0, 0, ' '), (0, 0, 'f'), (3, 1, 'd'), (0, 0, 'x'), (0, 0, 'c'), (0, 0, 'v'), (0, 0, ' '), (0, 0, 'j'), (0, 0, 's'), (0, 0, 'h'), (0, 0, 'G'), (0, 0, 'T'), (0, 0, 'C'), (0, 0, ' '), (0, 0, 'D'), (0, 0, 'c'), (0, 0, 'x'), (0, 0, 's'), (5, 1, 'v'), (0, 0, 'g'), (0, 0, 'c'), (0, 0, 'b'), (3, 1, 'e'), (0, 0, 's'), (0, 0, 't'), (0, 0, 'w'), (0, 0, 'f'), (0, 0, 'r'), (0, 0, 'g'), (4, 1, 'h'), (0, 0, 'o'), (0, 0, 'j'), (3, 1, 'g'), (0, 0, 'v'), (0, 0, ' '), (0, 0, 'f'), (0, 0, 'w'), (0, 0, 's'), (0, 0, 'i'), (0, 0, 'u'), (0, 0, 'g'), (0, 0, 'd'), (0, 0, 'f'), (0, 0, 's'), (1, 1, 'x'), (0, 0, 'c'), (0, 0, 'v'), (4, 1, 'd'), (0, 0, ' '), (0, 0, 'f'), (3, 1, 'g'), (0, 0, 'j'), (5, 1, 't'), (0, 0, 's'), (0, 0, 'x'), (0, 0, 'c'), (0, 0, 'v'), (0, 0, 'b'), (0, 0, ','), (0, 0, ' '), (0, 0, 'd'), (0, 0, 'f'), (0, 0, 'g'), (0, 0, 'h'), (0, 0, 'j'), (0, 0, 'k'), (0, 0, 'l'), (0, 0, 'u'), (0, 0, 'y'), (0, 0, 't'), (0, 0, 'd'), (0, 0, 'c'), (0, 0, 'v'), (0, 0, 'b'), (0, 0, 'm'), (0, 0, 'n'), (3, 1, 'v'), (0, 0, ' '), (0, 0, 's'), (0, 0, 'r'), (0, 0, 't'), (0, 0, 'y'), (0, 0, 'u'), (0, 0, 'i'), (0, 0, 'o'), (0, 0, 's'), (0, 0, 'x'), (0, 0, ' '), (0, 0, 'q'), (0, 0, 'w'), (0, 0, 'e'), (0, 0, 'r'), (0, 0, 't'), (0, 0, 'y'), (0, 0, 'd'), (0, 0, 'f'), (0, 0, 'g'), (0, 0, 'h'), (0, 0, 'j'), (0, 0, 'k'), (0, 0, ' '), (0, 0, 'd'), (0, 0, 'c'), (0, 0, 'f'), (0, 0, 'y'), (0, 0, 'u'), (0, 0, 'i'), (0, 0, 'r'), (0, 0, 'd'), (0, 0, ' '), (2, 1, 'f'), (0, 0, 'g'), (0, 0, 'h'), (0, 0, 'c'), (0, 0, 'b'), (0, 0, 'n'), (0, 0, 'y'), (0, 0, 't'), (0, 0, 'f'), (0, 0, 'd'), (0, 0, 'x'), (0, 0, ' '), (5, 1, 'y'), (0, 0, 'h'), (0, 0, 'j'), (0, 0, 'c'), (0, 0, 's'), (3, 1, 'j'), (0, 0, 'v'), (0, 0, ' '), (0, 0, 'x'), (0, 0, 't'), (0, 0, 'y'), (2, 1, 'u'), (0, 0, 'j'), (0, 0, 'v'), (0, 0, 'x'), (0, 0, 's'), (0, 0, ' '), (1, 1, 'f'), (0, 0, 't'), (0, 0, 'y'), (0, 0, 'g'), (0, 0, 'h'), (0, 0, 'x'), (0, 0, 's'), (0, 0, ' '), (0, 0, 'b'), (0, 0, 'w'), (0, 0, 'f'), (0, 0, 'c'), (2, 1, 'w'), (0, 0, 'g'), (3, 1, 'u'), (0, 0, 'y'), (0, 0, 'e'), (0, 0, 'q'), (0, 0, 'g'), (0, 0, 'f'), (0, 0, ' '), (1, 1, 'f'), (5, 1, 'q'), (0, 0, 'u'), (0, 0, 'e'), (0, 0, 'r'), (0, 0, 'f'), (0, 0, 'b'), (0, 0, 'c'), (0, 0, 'g'), (4, 1, 'u'), (0, 0, 'q'), (0, 0, ' '), (2, 1, 'u'), (0, 0, 'e'), (0, 0, 'r'), (0, 0, 'f'), (0, 0, 'c'), (0, 0, 'b'), (0, 0, 'n'), (0, 0, 'd'), (0, 0, 'k'), (0, 0, 'i'), (0, 0, 'w'), (0, 0, 'e'), (3, 1, 'g'), (0, 0, 'u'), (0, 0, 'p'), (0, 0, 'o'), (0, 0, 'w'), (0, 0, 'f'), (0, 0, 'h'), (0, 0, ' '), (0, 0, 'l'), (4, 1, 'v'), (0, 0, 'c'), (0, 0, 'u'), (0, 0, 'y'), (0, 0, 'a'), (0, 0, 'g'), (0, 0, 'w'), (0, 0, 'n'), (0, 0, ' '), (4, 1, 'y'), (0, 0, 't'), (4, 1, 'w'), (2, 1, 's'), (0, 0, 'e'), (0, 0, 'g'), (0, 0, 'u'), (0, 0, 'v'), (0, 0, 'h'), (0, 0, 'a'), (0, 0, 'i'), (0, 0, 'f'), (0, 0, 'j'), (0, 0, 's'), (0, 0, 'v'), (0, 0, 'b'), (0, 0, ' '), (3, 1, 'j'), (0, 0, 'a'), (0, 0, 'z'), (5, 1, 'k'), (5, 2, 'f'), (0, 0, 'b'), (0, 0, ' '), (0, 0, 'e'), (0, 0, 'r'), (1, 1, 'b'), (0, 0, 'g'), (0, 0, 'c'), (0, 0, ' '), (0, 0, 'q'), (0, 0, 'k'), (0, 0, 'w'), (0, 0, 'o'), (0, 0, 'a'), (0, 0, 's'), (0, 0, 'p'), (4, 1, 'h'), (0, 0, ' '), (0, 0, 'j'), (0, 0, 'b'), (0, 0, 'd'), (0, 0, 'o'), (0, 0, 'u'), (3, 1, 'f'), (0, 0, '8'), (0, 0, 'y'), (0, 0, ' '), (4, 1, 'i'), (0, 0, 's'), (3, 1, 'g'), (0, 0, 'q'), (0, 0, 'h'), (0, 0, 'u'), (0, 0, 'd'), (0, 0, 'f'), (0, 0, 'c'), (0, 0, ' '), (0, 0, 'j'), (4, 1, 'e'), (1, 1, 'u'), (0, 0, 'w'), (0, 0, 'j'), (0, 0, 'f'), (3, 1, 'i'), (0, 0, 'e'), (4, 1, ' '), (0, 0, 't'), (2, 1, 'd'), (0, 0, 'e'), (0, 0, 'h'), (4, 1, 'o'), (0, 0, 'w'), (4, 1, 'v'), (5, 1, 'q'), (0, 0, 'c'), (3, 2, 'g'), (0, 0, 't'), (0, 0, 'y'), (0, 0, 'f'), (3, 1, 'r'), (0, 0, ' '), (0, 0, 'k'), (0, 0, 's'), (0, 0, 'n'), (0, 0, 't'), (0, 0, 'r'), (0, 0, 'p'), (0, 0, 'k'), (5, 1, 'b'), (0, 0, ' '), (0, 0, 'a'), (0, 0, 'w'), (0, 0, 's'), (0, 0, 'd'), (0, 0, 'f'), (0, 0, ' '), (3, 1, 'd'), (0, 0, 'x'), (0, 0, 'c'), (0, 0, 'f'), (0, 0, 'v'), (0, 0, 'g'), (0, 0, 'b'), (0, 0, ' '), (0, 0, 'h'), (4, 1, 'v'), (0, 0, 'f'), (1, 1, 'g'), (0, 0, 'u'), (0, 0, 'l'), (0, 0, ' '), (5, 1, 'v'), (0, 0, 'b'), (0, 0, 'n'), (0, 0, 'm'), (5, 2, ' '), (0, 0, 'w'), (0, 0, 'e'), (0, 0, 'r'), (0, 0, 't'), (0, 0, 'y'), (0, 0, 'u'), (0, 0, 'i'), (0, 0, 'k'), (0, 0, ' '), (0, 0, 'e'), (0, 0, 'r'), (0, 0, 't'), (0, 0, 'y'), (0, 0, 'u'), (0, 0, 'i'), (0, 0, 'o'), (0, 0, 'v'), (0, 0, 'd'), (0, 0, ' '), (0, 0, 'f'), (3, 1, 'd'), (0, 0, 'x'), (0, 0, 'c'), (0, 0, 'v'), (0, 0, ' '), (0, 0, 'j'), (0, 0, 's'), (0, 0, 'h'), (1, 1, 'g'), (0, 0, 'c'), (0, 0, ' '), (2, 1, 'v'), (0, 0, 's'), (0, 0, 'd'), (5, 1, 'f'), (3, 1, 'g'), (0, 0, 'j'), (5, 1, 't'), (0, 0, 's'), (0, 0, 'x'), (0, 0, 'c'), (0, 0, 'v'), (0, 0, 'b'), (0, 0, ' '), (0, 0, 'd'), (0, 0, 'f'), (0, 0, 'g'), (0, 0, 'h'), (0, 0, 'j'), (0, 0, 'k'), (0, 0, 'l'), (0, 0, 'u'), (0, 0, 'y'), (0, 0, 't'), (0, 0, 'd'), (0, 0, 'c'), (0, 0, 'v'), (0, 0, 'b'), (0, 0, 'm'), (0, 0, 'n'), (3, 1, 'v'), (0, 0, ' '), (0, 0, 's'), (0, 0, 'd'), (0, 0, 'f'), (0, 0, 'g'), (0, 0, 'h'), (0, 0, 'j'), (0, 0, ' '), (0, 0, 'd'), (0, 0, 'c'), (0, 0, 'f'), (0, 0, 'y'), (0, 0, 'u'), (0, 0, 'i'), (0, 0, 'r'), (0, 0, 'd'), (0, 0, ' '), (2, 1, 'f'), (0, 0, 'g'), (0, 0, 'h'), (0, 0, 'c'), (0, 0, 'b'), (0, 0, 'n'), (0, 0, 'y'), (0, 0, 't'), (0, 0, 'f'), (0, 0, 'd'), (0, 0, 'x'), (0, 0, ' '), (5, 1, 'y'), (0, 0, 'h'), (0, 0, 'j'), (0, 0, 'c'), (0, 0, 's'), (3, 1, 'j'), (0, 0, 'v'), (0, 0, ' '), (0, 0, 'x'), (0, 0, 't'), (0, 0, 'y'), (2, 1, 'u'), (0, 0, 'j'), (0, 0, 'v'), (0, 0, 'x'), (0, 0, 's'), (0, 0, ' '), (1, 1, 'f'), (0, 0, 't'), (0, 0, 'y'), (0, 0, 'g'), (0, 0, 'h'), (0, 0, 'x'), (0, 0, 's'), (0, 0, ' '), (0, 0, 'b'), (0, 0, 'w'), (0, 0, 'f'), (0, 0, 'c'), (2, 1, 'w'), (0, 0, 'g'), (3, 1, 'u'), (0, 0, 'y'), (0, 0, 'e'), (0, 0, 'q'), (0, 0, 'g'), (0, 0, 'f'), (0, 0, ' '), (1, 1, 'f'), (5, 1, 'q'), (0, 0, 'u'), (0, 0, 'e'), (0, 0, 'r'), (0, 0, 'f'), (0, 0, 'b'), (0, 0, 'c'), (0, 0, 'g'), (4, 1, 'u'), (0, 0, 'q'), (0, 0, ' '), (2, 1, 'u'), (0, 0, 'e'), (0, 0, 'r'), (0, 0, 'f'), (0, 0, 'c'), (0, 0, 'b'), (0, 0, 'n'), (0, 0, 'd'), (0, 0, 'k'), (0, 0, 'i'), (0, 0, 'w'), (0, 0, 'e'), (3, 1, 'g'), (0, 0, 'u'), (0, 0, 'p'), (0, 0, 'o'), (0, 0, 'w'), (0, 0, 'f'), (0, 0, 'h'), (0, 0, ' '), (0, 0, 'l'), (4, 1, 'v'), (0, 0, 'c'), (0, 0, 'u'), (0, 0, 'y'), (0, 0, 'a'), (0, 0, 'g'), (0, 0, 'w'), (0, 0, 'n'), (0, 0, ' '), (4, 1, 'y'), (0, 0, 't'), (4, 1, 'w'), (2, 1, 'f'), (0, 0, 'g'), (0, 0, 'h'), (0, 0, 'j'), (0, 0, 'k'), (0, 0, 'l'), (0, 0, ' '), (3, 1, 'j'), (0, 0, 'a'), (0, 0, 'f'), (0, 0, 'b'), (0, 0, ' '), (0, 0, 'e'), (0, 0, 'r'), (1, 1, 'b'), (0, 0, 'g'), (0, 0, 'c'), (0, 0, ' '), (0, 0, 'q'), (0, 0, 'k'), (0, 0, 'w'), (0, 0, 'o'), (0, 0, 'a'), (0, 0, 's'), (0, 0, 'g'), (0, 0, 'q'), (0, 0, 'd'), (0, 0, 'b'), (1, 1, 'j'), (5, 1, 'k'), (0, 0, ' '), (0, 0, 'f'), (0, 0, 'i'), (0, 0, 's'), (3, 1, 'g'), (0, 0, 'q'), (0, 0, 'h'), (0, 0, 'u'), (0, 0, 'd'), (0, 0, 'f'), (0, 0, 'c'), (0, 0, ' '), (0, 0, 'j'), (4, 1, 'e'), (1, 1, 'u'), (0, 0, 'w'), (0, 0, 'j'), (0, 0, 'f'), (3, 1, 'i'), (0, 0, 'e'), (4, 1, ' '), (0, 0, 't'), (2, 1, 'd'), (0, 0, 'e'), (0, 0, 'h'), (4, 1, 'o'), (0, 0, 'w'), (4, 1, 'v'), (5, 1, 'q'), (0, 0, 'c'), (3, 2, 'g'), (0, 0, 't'), (0, 0, 'y'), (0, 0, 'f'), (3, 1, 'r'), (0, 0, ' '), (0, 0, 'k'), (0, 0, 's'), (0, 0, 'n'), (0, 0, 't'), (0, 0, 'r'), (0, 0, 'p'), (0, 0, 'k'), (5, 1, 'b'), (0, 0, ' '), (0, 0, 'a'), (0, 0, 'w'), (0, 0, 's'), (0, 0, 'd'), (0, 0, 'f'), (0, 0, ' '), (3, 1, 'd'), (0, 0, 'x'), (0, 0, 'c'), (0, 0, 'f'), (0, 0, 'v'), (0, 0, 'g'), (0, 0, 'b'), (0, 0, ' '), (0, 0, 'h'), (4, 1, 'v'), (0, 0, 'f'), (1, 1, 'g'), (0, 0, 'u'), (0, 0, 'l'), (0, 0, ' '), (5, 1, 'v'), (0, 0, 'b'), (0, 0, 'n'), (0, 0, 'm'), (5, 2, ' '), (0, 0, 'w'), (0, 0, 'e'), (0, 0, 'r'), (0, 0, 't'), (0, 0, 'y'), (0, 0, 'u'), (0, 0, 'i'), (0, 0, 'k'), (0, 0, ' '), (0, 0, 'e'), (0, 0, 'r'), (0, 0, 't'), (0, 0, 'y'), (0, 0, 'u'), (0, 0, 'i'), (0, 0, 'o'), (0, 0, 'v'), (0, 0, 'd'), (0, 0, ' '), (0, 0, 'f'), (3, 1, 'd'), (0, 0, 'x'), (0, 0, 'c'), (0, 0, 'v'), (0, 0, ' '), (0, 0, 'j'), (0, 0, 's'), (0, 0, 'h'), (0, 0, 'G'), (0, 0, 'T'), (0, 0, 'C'), (0, 0, ' '), (0, 0, 'D'), (0, 0, 'c'), (0, 0, 'x'), (0, 0, 's'), (5, 1, 'v'), (0, 0, 'g'), (0, 0, 'c'), (0, 0, 'b'), (3, 1, 'e'), (0, 0, 's'), (0, 0, 't'), (0, 0, 'w'), (0, 0, 'f'), (0, 0, 'r'), (0, 0, 'g'), (4, 1, 'h'), (0, 0, 'o'), (0, 0, 'j'), (3, 1, 'g'), (0, 0, 'v'), (0, 0, ' '), (0, 0, 'f'), (0, 0, 'w'), (0, 0, 's'), (0, 0, 'i'), (0, 0, 'u'), (0, 0, 'g'), (0, 0, 'd'), (0, 0, 'f'), (0, 0, 's'), (1, 1, 'x'), (0, 0, 'c'), (0, 0, 'v'), (4, 1, 'd'), (0, 0, ' '), (0, 0, 'f'), (3, 1, 'g'), (0, 0, 'j'), (5, 1, 't'), (0, 0, 's'), (0, 0, 'x'), (0, 0, 'c'), (0, 0, 'v'), (0, 0, ' '), (0, 0, 'e'), (0, 0, 'h'), (0, 0, 'u'), (0, 0, 'j'), (0, 0, 'f'), (0, 0, 'k'), (0, 0, 'o'), (0, 0, 'a'), (0, 0, ' '), (0, 0, 'e'), (0, 0, 'r'), (0, 0, 't'), (0, 0, 'y'), (0, 0, 'u'), (0, 0, ' '), (0, 0, 'd'), (0, 0, 'c'), (0, 0, 'v'), (0, 0, 'b'), (0, 0, 'm'), (0, 0, 'n'), (3, 1, 'v'), (0, 0, ' '), (0, 0, 's'), (0, 0, 'r'), (0, 0, 't'), (0, 0, 'y'), (0, 0, 'u'), (0, 0, 'i'), (0, 0, 'o'), (0, 0, 's'), (0, 0, 'x'), (0, 0, ' '), (0, 0, 'q'), (0, 0, 'w'), (0, 0, 'e'), (0, 0, 'r'), (0, 0, 't'), (0, 0, 'y'), (0, 0, 'u'), (0, 0, 'i'), (0, 0, ' '), (0, 0, 'd'), (0, 0, 'c'), (0, 0, 'f'), (0, 0, 'y'), (0, 0, 'u'), (0, 0, 'i'), (0, 0, 'r'), (0, 0, 'd'), (0, 0, ' '), (0, 0, 't'), (0, 0, 'y'), (0, 0, 'u'), (4, 3, 'h'), (0, 0, 'g'), (0, 0, 'v'), (0, 0, 'c'), (0, 0, 'd'), (0, 0, 'f'), (0, 0, ' '), (0, 0, 's'), (2, 1, 'f'), (0, 0, 'g'), (0, 0, 'h'), (0, 0, 'j'), (0, 0, 'k')]\n",
      "Decoded Text: bwfcfwgfuyeqgf  fgquerfbcgfuq querfcbndkiweigupowfh lfvcuyagwn gyt w seguvhaifjsvb vjaz kjafb errbgc qkwoaspoh jbdoudf8y fisfgqhudfc jfeeuwjfwief t deh owhv qc qgtyftr ksntrpknb awsdf ddxcfvgb hgvffgul fvbnmfv wertyuik ertyuiovd fddxcv jshGTC Dcxs vgcbgestwfrgwhojhgv fwsiugdfssxcvsd fdgj tsxcvb, dfghjkluytdcvbmnbv srtyuiosx qwertydfghjk dcfyuird dfghcbnytfdx tyhjcsjjv xtytujvxs  ftyghxs bwfcfwgfuyeqgf  fgquerfbcgfuq querfcbndkiweigupowfh lfvcuyagwn gyt w seguvhaifjsvb vjaz kjafb errbgc qkwoaspoh jbdoudf8y fisfgqhudfc jfeeuwjfwief t deh owhv qc qgtyftr ksntrpknb awsdf ddxcfvgb hgvffgul fvbnmfv wertyuik ertyuiovd fddxcv jshhgc cvsd fdgj tsxcvb dfghjkluytdcvbmnbv sdfghj dcfyuird dfghcbnytfdx tyhjcsjjv xtytujvxs  ftyghxs bwfcfwgfuyeqgf  fgquerfbcgfuq querfcbndkiweigupowfh lfvcuyagwn gyt w fghjkl kjafb errbgc qkwoasgqdbbjqk fisfgqhudfc jfeeuwjfwief t deh owhv qc qgtyftr ksntrpknb awsdf ddxcfvgb hgvffgul fvbnmfv wertyuik ertyuiovd fddxcv jshGTC Dcxs vgcbgestwfrgwhojhgv fwsiugdfssxcvsd fdgj tsxcv ehujfkoa ertyu dcvbmnbv srtyuiosx qwertyui dcfyuird tyu tyhgvcdf s fghjk\n",
      "Test Passed: Original and Decoded texts match.\n"
     ]
    }
   ],
   "source": [
    "lz77 = LZ77(window_size)\n",
    "\n",
    "original_text = 'bwfcfwgfuyeqgf  fgquerfbcgfuq querfcbndkiweigupowfh \\\n",
    "lfvcuyagwn gyt w seguvhaifjsvb vjaz \\\n",
    "kjafb errbgc qkwoaspoh jbdoudf8y fisfgqhudfc \\\n",
    "jfeeuwjfwief t deh owhv qc qgtyftr ksntrpknb \\\n",
    "awsdf ddxcfvgb \\\n",
    "hgvffgul fvbnmfv wertyuik ertyuiovd fddxcv \\\n",
    "jshGTC Dcxs vgcbgestwfrgwhojhgv fwsiugdfssxcvsd fdgj \\\n",
    "tsxcvb, dfghjkluytdcvbmnbv srtyuiosx qwertydfghjk \\\n",
    "dcfyuird dfghcbnytfdx tyhjcsjjv xtytujvxs  ftyghxs \\\n",
    "bwfcfwgfuyeqgf  fgquerfbcgfuq querfcbndkiweigupowfh \\\n",
    "lfvcuyagwn gyt w seguvhaifjsvb vjaz \\\n",
    "kjafb errbgc qkwoaspoh jbdoudf8y fisfgqhudfc \\\n",
    "jfeeuwjfwief t deh owhv qc qgtyftr ksntrpknb \\\n",
    "awsdf ddxcfvgb \\\n",
    "hgvffgul fvbnmfv wertyuik ertyuiovd fddxcv \\\n",
    "jshhgc cvsd fdgj \\\n",
    "tsxcvb dfghjkluytdcvbmnbv sdfghj \\\n",
    "dcfyuird dfghcbnytfdx tyhjcsjjv xtytujvxs  ftyghxs \\\n",
    "bwfcfwgfuyeqgf  fgquerfbcgfuq querfcbndkiweigupowfh \\\n",
    "lfvcuyagwn gyt w fghjkl \\\n",
    "kjafb errbgc qkwoasgqdbbjqk fisfgqhudfc \\\n",
    "jfeeuwjfwief t deh owhv qc qgtyftr ksntrpknb \\\n",
    "awsdf ddxcfvgb \\\n",
    "hgvffgul fvbnmfv wertyuik ertyuiovd fddxcv \\\n",
    "jshGTC Dcxs vgcbgestwfrgwhojhgv fwsiugdfssxcvsd fdgj \\\n",
    "tsxcv ehujfkoa ertyu dcvbmnbv srtyuiosx qwertyui \\\n",
    "dcfyuird tyu tyhgvcdf s fghjk'\n",
    "\n",
    "compressed_list = lz77.encode(original_text)\n",
    "\n",
    "print(f\"Compressed List: {compressed_list}\")\n",
    "\n",
    "decoded_text = lz77.decode(compressed_list)\n",
    "\n",
    "print(f\"Decoded Text: {decoded_text}\")\n",
    "\n",
    "if original_text == decoded_text:\n",
    "    print(\"Test Passed: Original and Decoded texts match.\")\n",
    "else:\n",
    "    print(\"Test Failed: Original and Decoded texts do not match.\")"
   ]
  },
  {
   "cell_type": "markdown",
   "metadata": {},
   "source": [
    "Створення візуалізації\n"
   ]
  },
  {
   "cell_type": "code",
   "execution_count": 12,
   "metadata": {},
   "outputs": [
    {
     "data": {
      "image/png": "[encoded data removed]",
      "text/plain": [
       "<Figure size 640x480 with 1 Axes>"
      ]
     },
     "metadata": {},
     "output_type": "display_data"
    }
   ],
   "source": [
    "def main():\n",
    "    window_size = 5\n",
    "    lz77 = LZ77(window_size)\n",
    "\n",
    "    # Small file\n",
    "    original_text_small = \"The quick brown fox jumps over the lazy dog. The quick brown dog jumps over the lazy fox.\"\n",
    "    \n",
    "    _, small_file_time = measure_execution_time(lz77.encode, original_text_small)\n",
    "\n",
    "    # Big file\n",
    "    original_text_big = 'bwfcfwgfuyeqgf  fgquerfbcgfuq querfcbndkiweigupowfh \\\n",
    "lfvcuyagwn gyt w seguvhaifjsvb vjaz \\\n",
    "kjafb errbgc qkwoaspoh jbdoudf8y fisfgqhudfc \\\n",
    "jfeeuwjfwief t deh owhv qc qgtyftr ksntrpknb \\\n",
    "awsdf ddxcfvgb \\\n",
    "hgvffgul fvbnmfv wertyuik ertyuiovd fddxcv \\\n",
    "jshGTC Dcxs vgcbgestwfrgwhojhgv fwsiugdfssxcvsd fdgj \\\n",
    "tsxcvb, dfghjkluytdcvbmnbv srtyuiosx qwertydfghjk \\\n",
    "dcfyuird dfghcbnytfdx tyhjcsjjv xtytujvxs  ftyghxs \\\n",
    "bwfcfwgfuyeqgf  fgquerfbcgfuq querfcbndkiweigupowfh \\\n",
    "lfvcuyagwn gyt w seguvhaifjsvb vjaz \\\n",
    "kjafb errbgc qkwoaspoh jbdoudf8y fisfgqhudfc \\\n",
    "jfeeuwjfwief t deh owhv qc qgtyftr ksntrpknb \\\n",
    "awsdf ddxcfvgb \\\n",
    "hgvffgul fvbnmfv wertyuik ertyuiovd fddxcv \\\n",
    "jshhgc cvsd fdgj \\\n",
    "tsxcvb dfghjkluytdcvbmnbv sdfghj \\\n",
    "dcfyuird dfghcbnytfdx tyhjcsjjv xtytujvxs  ftyghxs \\\n",
    "bwfcfwgfuyeqgf  fgquerfbcgfuq querfcbndkiweigupowfh \\\n",
    "lfvcuyagwn gyt w fghjkl \\\n",
    "kjafb errbgc qkwoasgqdbbjqk fisfgqhudfc \\\n",
    "jfeeuwjfwief t deh owhv qc qgtyftr ksntrpknb \\\n",
    "awsdf ddxcfvgb \\\n",
    "hgvffgul fvbnmfv wertyuik ertyuiovd fddxcv \\\n",
    "jshGTC Dcxs vgcbgestwfrgwhojhgv fwsiugdfssxcvsd fdgj \\\n",
    "tsxcv ehujfkoa ertyu dcvbmnbv srtyuiosx qwertyui \\\n",
    "dcfyuird tyu tyhgvcdf s fghjk'\n",
    "\n",
    "    _, big_file_time = measure_execution_time(lz77.encode, original_text_big)\n",
    "\n",
    "    visualize_execution_time(small_file_time, big_file_time)\n",
    "\n",
    "if __name__ == \"__main__\":\n",
    "    main()"
   ]
  }
 ],
 "metadata": {
  "kernelspec": {
   "display_name": "Python 3",
   "language": "python",
   "name": "python3"
  },
  "language_info": {
   "codemirror_mode": {
    "name": "ipython",
    "version": 3
   },
   "file_extension": ".py",
   "mimetype": "text/x-python",
   "name": "python",
   "nbconvert_exporter": "python",
   "pygments_lexer": "ipython3",
   "version": "3.11.5"
  }
 },
 "nbformat": 4,
 "nbformat_minor": 2
}
